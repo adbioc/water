{
  "nbformat": 4,
  "nbformat_minor": 0,
  "metadata": {
    "colab": {
      "name": "fishywater.ipynb",
      "provenance": [],
      "collapsed_sections": [],
      "authorship_tag": "ABX9TyNEXfE3YEi6+/JVgGnN2lRz",
      "include_colab_link": true
    },
    "kernelspec": {
      "name": "python3",
      "display_name": "Python 3"
    }
  },
  "cells": [
    {
      "cell_type": "markdown",
      "metadata": {
        "id": "view-in-github",
        "colab_type": "text"
      },
      "source": [
        "<a href=\"https://colab.research.google.com/github/adbioc/water/blob/main/fishywater.ipynb\" target=\"_parent\"><img src=\"https://colab.research.google.com/assets/colab-badge.svg\" alt=\"Open In Colab\"/></a>"
      ]
    },
    {
      "cell_type": "code",
      "metadata": {
        "id": "y_hGLwW_oku2",
        "colab": {
          "base_uri": "https://localhost:8080/"
        },
        "outputId": "67ec6a4c-9abc-480f-d8da-875862c6eaa2"
      },
      "source": [
        "from google.colab import drive\n",
        "drive.mount('/content/drive')"
      ],
      "execution_count": 134,
      "outputs": [
        {
          "output_type": "stream",
          "text": [
            "Drive already mounted at /content/drive; to attempt to forcibly remount, call drive.mount(\"/content/drive\", force_remount=True).\n"
          ],
          "name": "stdout"
        }
      ]
    },
    {
      "cell_type": "code",
      "metadata": {
        "id": "bCDGpTzyG7xy"
      },
      "source": [
        "import numpy as np\n",
        "from numpy import linalg as LA\n",
        "import pandas as pd\n",
        "import matplotlib.pyplot as plt\n",
        "import os\n",
        "import re\n",
        "import networkx as nx\n",
        "from sklearn.preprocessing import StandardScaler"
      ],
      "execution_count": 135,
      "outputs": []
    },
    {
      "cell_type": "code",
      "metadata": {
        "colab": {
          "base_uri": "https://localhost:8080/"
        },
        "id": "YUoTu_w6T8HW",
        "outputId": "089b5524-d3fa-4990-df82-f31e881743a2"
      },
      "source": [
        "os.chdir(\"/content/drive/My Drive/my_book/book_mypython\")\n",
        "!ls *.csv\n",
        "df_fish=pd.read_csv('fishywater.csv')\n",
        "df_bally=pd.read_csv('wpig_wdissolvedsolid_triplet.csv')\n",
        "\n",
        "\n"
      ],
      "execution_count": 136,
      "outputs": [
        {
          "output_type": "stream",
          "text": [
            "cdT1.csv\t   fishywater.csv  ptbdb_abnormal.csv\n",
            "death_18_1.csv\t   flights.csv\t   ptbdb_normal.csv\n",
            "fish_filtered.csv  nnfinal.csv\t   wpig_wdissolvedsolid_triplet.csv\n"
          ],
          "name": "stdout"
        }
      ]
    },
    {
      "cell_type": "code",
      "metadata": {
        "colab": {
          "base_uri": "https://localhost:8080/"
        },
        "id": "A-saQzH0YnW3",
        "outputId": "20e7c05a-f2fa-4fbb-80c4-0995cf3a8c62"
      },
      "source": [
        "fish=df_fish.values\n",
        "h=list(df_fish)\n",
        "h"
      ],
      "execution_count": 137,
      "outputs": [
        {
          "output_type": "execute_result",
          "data": {
            "text/plain": [
              "['cl',\n",
              " 'nm',\n",
              " 'F1',\n",
              " 'F2',\n",
              " 'Zeta1',\n",
              " 'Zeta2',\n",
              " 'Zeta3',\n",
              " 'K1',\n",
              " 'K2',\n",
              " 'K3',\n",
              " 'Mu1',\n",
              " 'Mu2',\n",
              " 'Mu3',\n",
              " 'D1',\n",
              " 'D2',\n",
              " 'D3',\n",
              " 'pd1',\n",
              " 'pd2',\n",
              " 'pd3']"
            ]
          },
          "metadata": {
            "tags": []
          },
          "execution_count": 137
        }
      ]
    },
    {
      "cell_type": "code",
      "metadata": {
        "id": "IeDjYgwqJRej"
      },
      "source": [
        "colF = df_fish.loc[: , \"F1\":\"F2\"]\n",
        "colZeta=df_fish.loc[:,\"Zeta1\":\"Zeta3\"]\n",
        "conductivity=df_fish.loc[:,\"K1\":\"K3\"]\n",
        "mu=df_fish.loc[:,\"Mu1\":\"Mu3\"]\n",
        "Diam=df_fish.loc[:,\"D1\":\"D3\"]\n",
        "polydispersity=df_fish.loc[:,\"pd1\":\"pd3\"]\n",
        "\n",
        "\n",
        "\n",
        "\n"
      ],
      "execution_count": 138,
      "outputs": []
    },
    {
      "cell_type": "code",
      "metadata": {
        "colab": {
          "base_uri": "https://localhost:8080/",
          "height": 426
        },
        "id": "YGFIn5dVNpHH",
        "outputId": "1dc0a4fe-2f22-4a98-8b49-fc534ca413df"
      },
      "source": [
        "df_fish['F'] = colF.mean(axis=1)# axis=1 represents mean over columns\n",
        "df_fish['Fs']=colF.std(axis=1)\n",
        "\n",
        "df_fish['Z']=colZeta.mean(axis=1)\n",
        "df_fish['Zs']=colZeta.std(axis=1)\n",
        "\n",
        "\n",
        "df_fish['K']=conductivity.mean(axis=1)\n",
        "df_fish['Ks']=conductivity.std(axis=1)\n",
        "\n",
        "df_fish['M']=mu.mean(axis=1)\n",
        "df_fish['Ms']=mu.std(axis=1)\n",
        "\n",
        "df_fish[\"d\"]=Diam.mean(axis=1)\n",
        "df_fish[\"ds\"]=Diam.std(axis=1)\n",
        "\n",
        "df_fish['p']=polydispersity.mean(axis=1)\n",
        "df_fish['ps']=polydispersity.std(axis=1)\n",
        "\n",
        "\n",
        "df_fish\n",
        "\n",
        "\n",
        "\n",
        "\n",
        "\n",
        "\n",
        "\n",
        "\n"
      ],
      "execution_count": 139,
      "outputs": [
        {
          "output_type": "execute_result",
          "data": {
            "text/html": [
              "<div>\n",
              "<style scoped>\n",
              "    .dataframe tbody tr th:only-of-type {\n",
              "        vertical-align: middle;\n",
              "    }\n",
              "\n",
              "    .dataframe tbody tr th {\n",
              "        vertical-align: top;\n",
              "    }\n",
              "\n",
              "    .dataframe thead th {\n",
              "        text-align: right;\n",
              "    }\n",
              "</style>\n",
              "<table border=\"1\" class=\"dataframe\">\n",
              "  <thead>\n",
              "    <tr style=\"text-align: right;\">\n",
              "      <th></th>\n",
              "      <th>cl</th>\n",
              "      <th>nm</th>\n",
              "      <th>F1</th>\n",
              "      <th>F2</th>\n",
              "      <th>Zeta1</th>\n",
              "      <th>Zeta2</th>\n",
              "      <th>Zeta3</th>\n",
              "      <th>K1</th>\n",
              "      <th>K2</th>\n",
              "      <th>K3</th>\n",
              "      <th>Mu1</th>\n",
              "      <th>Mu2</th>\n",
              "      <th>Mu3</th>\n",
              "      <th>D1</th>\n",
              "      <th>D2</th>\n",
              "      <th>D3</th>\n",
              "      <th>pd1</th>\n",
              "      <th>pd2</th>\n",
              "      <th>pd3</th>\n",
              "      <th>F</th>\n",
              "      <th>Fs</th>\n",
              "      <th>Z</th>\n",
              "      <th>Zs</th>\n",
              "      <th>K</th>\n",
              "      <th>Ks</th>\n",
              "      <th>M</th>\n",
              "      <th>Ms</th>\n",
              "      <th>d</th>\n",
              "      <th>ds</th>\n",
              "      <th>p</th>\n",
              "      <th>ps</th>\n",
              "    </tr>\n",
              "  </thead>\n",
              "  <tbody>\n",
              "    <tr>\n",
              "      <th>0</th>\n",
              "      <td>1</td>\n",
              "      <td>450.059</td>\n",
              "      <td>222085.00</td>\n",
              "      <td>221683.00</td>\n",
              "      <td>-0.180</td>\n",
              "      <td>-0.659</td>\n",
              "      <td>-0.251</td>\n",
              "      <td>0.91800</td>\n",
              "      <td>0.94600</td>\n",
              "      <td>0.96300</td>\n",
              "      <td>0.918</td>\n",
              "      <td>0.946</td>\n",
              "      <td>0.963</td>\n",
              "      <td>1288.0</td>\n",
              "      <td>1063.0</td>\n",
              "      <td>1057.0</td>\n",
              "      <td>0.840</td>\n",
              "      <td>0.647</td>\n",
              "      <td>0.652</td>\n",
              "      <td>221884.00</td>\n",
              "      <td>284.256926</td>\n",
              "      <td>-0.363333</td>\n",
              "      <td>0.258504</td>\n",
              "      <td>0.942333</td>\n",
              "      <td>0.022723</td>\n",
              "      <td>0.942333</td>\n",
              "      <td>0.022723</td>\n",
              "      <td>1136.000000</td>\n",
              "      <td>131.670042</td>\n",
              "      <td>0.713000</td>\n",
              "      <td>0.110014</td>\n",
              "    </tr>\n",
              "    <tr>\n",
              "      <th>1</th>\n",
              "      <td>1</td>\n",
              "      <td>451.045</td>\n",
              "      <td>227460.00</td>\n",
              "      <td>220790.00</td>\n",
              "      <td>-0.180</td>\n",
              "      <td>-0.659</td>\n",
              "      <td>-0.251</td>\n",
              "      <td>0.91800</td>\n",
              "      <td>0.94600</td>\n",
              "      <td>0.96300</td>\n",
              "      <td>0.918</td>\n",
              "      <td>0.946</td>\n",
              "      <td>0.963</td>\n",
              "      <td>1288.0</td>\n",
              "      <td>1063.0</td>\n",
              "      <td>1057.0</td>\n",
              "      <td>0.840</td>\n",
              "      <td>0.647</td>\n",
              "      <td>0.652</td>\n",
              "      <td>224125.00</td>\n",
              "      <td>4716.402231</td>\n",
              "      <td>-0.363333</td>\n",
              "      <td>0.258504</td>\n",
              "      <td>0.942333</td>\n",
              "      <td>0.022723</td>\n",
              "      <td>0.942333</td>\n",
              "      <td>0.022723</td>\n",
              "      <td>1136.000000</td>\n",
              "      <td>131.670042</td>\n",
              "      <td>0.713000</td>\n",
              "      <td>0.110014</td>\n",
              "    </tr>\n",
              "    <tr>\n",
              "      <th>2</th>\n",
              "      <td>1</td>\n",
              "      <td>452.032</td>\n",
              "      <td>223112.00</td>\n",
              "      <td>223313.00</td>\n",
              "      <td>-0.180</td>\n",
              "      <td>-0.659</td>\n",
              "      <td>-0.251</td>\n",
              "      <td>0.91800</td>\n",
              "      <td>0.94600</td>\n",
              "      <td>0.96300</td>\n",
              "      <td>0.918</td>\n",
              "      <td>0.946</td>\n",
              "      <td>0.963</td>\n",
              "      <td>1288.0</td>\n",
              "      <td>1063.0</td>\n",
              "      <td>1057.0</td>\n",
              "      <td>0.840</td>\n",
              "      <td>0.647</td>\n",
              "      <td>0.652</td>\n",
              "      <td>223212.50</td>\n",
              "      <td>142.128463</td>\n",
              "      <td>-0.363333</td>\n",
              "      <td>0.258504</td>\n",
              "      <td>0.942333</td>\n",
              "      <td>0.022723</td>\n",
              "      <td>0.942333</td>\n",
              "      <td>0.022723</td>\n",
              "      <td>1136.000000</td>\n",
              "      <td>131.670042</td>\n",
              "      <td>0.713000</td>\n",
              "      <td>0.110014</td>\n",
              "    </tr>\n",
              "    <tr>\n",
              "      <th>3</th>\n",
              "      <td>1</td>\n",
              "      <td>453.018</td>\n",
              "      <td>226330.00</td>\n",
              "      <td>223168.00</td>\n",
              "      <td>-0.180</td>\n",
              "      <td>-0.659</td>\n",
              "      <td>-0.251</td>\n",
              "      <td>0.91800</td>\n",
              "      <td>0.94600</td>\n",
              "      <td>0.96300</td>\n",
              "      <td>0.918</td>\n",
              "      <td>0.946</td>\n",
              "      <td>0.963</td>\n",
              "      <td>1288.0</td>\n",
              "      <td>1063.0</td>\n",
              "      <td>1057.0</td>\n",
              "      <td>0.840</td>\n",
              "      <td>0.647</td>\n",
              "      <td>0.652</td>\n",
              "      <td>224749.00</td>\n",
              "      <td>2235.871642</td>\n",
              "      <td>-0.363333</td>\n",
              "      <td>0.258504</td>\n",
              "      <td>0.942333</td>\n",
              "      <td>0.022723</td>\n",
              "      <td>0.942333</td>\n",
              "      <td>0.022723</td>\n",
              "      <td>1136.000000</td>\n",
              "      <td>131.670042</td>\n",
              "      <td>0.713000</td>\n",
              "      <td>0.110014</td>\n",
              "    </tr>\n",
              "    <tr>\n",
              "      <th>4</th>\n",
              "      <td>1</td>\n",
              "      <td>454.004</td>\n",
              "      <td>224318.00</td>\n",
              "      <td>223927.00</td>\n",
              "      <td>-0.180</td>\n",
              "      <td>-0.659</td>\n",
              "      <td>-0.251</td>\n",
              "      <td>0.91800</td>\n",
              "      <td>0.94600</td>\n",
              "      <td>0.96300</td>\n",
              "      <td>0.918</td>\n",
              "      <td>0.946</td>\n",
              "      <td>0.963</td>\n",
              "      <td>1288.0</td>\n",
              "      <td>1063.0</td>\n",
              "      <td>1057.0</td>\n",
              "      <td>0.840</td>\n",
              "      <td>0.647</td>\n",
              "      <td>0.652</td>\n",
              "      <td>224122.50</td>\n",
              "      <td>276.478751</td>\n",
              "      <td>-0.363333</td>\n",
              "      <td>0.258504</td>\n",
              "      <td>0.942333</td>\n",
              "      <td>0.022723</td>\n",
              "      <td>0.942333</td>\n",
              "      <td>0.022723</td>\n",
              "      <td>1136.000000</td>\n",
              "      <td>131.670042</td>\n",
              "      <td>0.713000</td>\n",
              "      <td>0.110014</td>\n",
              "    </tr>\n",
              "    <tr>\n",
              "      <th>...</th>\n",
              "      <td>...</td>\n",
              "      <td>...</td>\n",
              "      <td>...</td>\n",
              "      <td>...</td>\n",
              "      <td>...</td>\n",
              "      <td>...</td>\n",
              "      <td>...</td>\n",
              "      <td>...</td>\n",
              "      <td>...</td>\n",
              "      <td>...</td>\n",
              "      <td>...</td>\n",
              "      <td>...</td>\n",
              "      <td>...</td>\n",
              "      <td>...</td>\n",
              "      <td>...</td>\n",
              "      <td>...</td>\n",
              "      <td>...</td>\n",
              "      <td>...</td>\n",
              "      <td>...</td>\n",
              "      <td>...</td>\n",
              "      <td>...</td>\n",
              "      <td>...</td>\n",
              "      <td>...</td>\n",
              "      <td>...</td>\n",
              "      <td>...</td>\n",
              "      <td>...</td>\n",
              "      <td>...</td>\n",
              "      <td>...</td>\n",
              "      <td>...</td>\n",
              "      <td>...</td>\n",
              "      <td>...</td>\n",
              "    </tr>\n",
              "    <tr>\n",
              "      <th>2254</th>\n",
              "      <td>9</td>\n",
              "      <td>695.919</td>\n",
              "      <td>14586.10</td>\n",
              "      <td>14656.60</td>\n",
              "      <td>-0.197</td>\n",
              "      <td>0.189</td>\n",
              "      <td>-0.719</td>\n",
              "      <td>-0.01543</td>\n",
              "      <td>0.01483</td>\n",
              "      <td>-0.05633</td>\n",
              "      <td>1.680</td>\n",
              "      <td>1.770</td>\n",
              "      <td>1.830</td>\n",
              "      <td>462.2</td>\n",
              "      <td>557.3</td>\n",
              "      <td>599.8</td>\n",
              "      <td>0.469</td>\n",
              "      <td>0.454</td>\n",
              "      <td>0.093</td>\n",
              "      <td>14621.35</td>\n",
              "      <td>49.851028</td>\n",
              "      <td>-0.242333</td>\n",
              "      <td>0.455694</td>\n",
              "      <td>-0.018977</td>\n",
              "      <td>0.035712</td>\n",
              "      <td>1.760000</td>\n",
              "      <td>0.075498</td>\n",
              "      <td>539.766667</td>\n",
              "      <td>70.455683</td>\n",
              "      <td>0.338667</td>\n",
              "      <td>0.212886</td>\n",
              "    </tr>\n",
              "    <tr>\n",
              "      <th>2255</th>\n",
              "      <td>9</td>\n",
              "      <td>696.905</td>\n",
              "      <td>13155.60</td>\n",
              "      <td>12984.40</td>\n",
              "      <td>-0.197</td>\n",
              "      <td>0.189</td>\n",
              "      <td>-0.719</td>\n",
              "      <td>-0.01543</td>\n",
              "      <td>0.01483</td>\n",
              "      <td>-0.05633</td>\n",
              "      <td>1.680</td>\n",
              "      <td>1.770</td>\n",
              "      <td>1.830</td>\n",
              "      <td>462.2</td>\n",
              "      <td>557.3</td>\n",
              "      <td>599.8</td>\n",
              "      <td>0.469</td>\n",
              "      <td>0.454</td>\n",
              "      <td>0.093</td>\n",
              "      <td>13070.00</td>\n",
              "      <td>121.056681</td>\n",
              "      <td>-0.242333</td>\n",
              "      <td>0.455694</td>\n",
              "      <td>-0.018977</td>\n",
              "      <td>0.035712</td>\n",
              "      <td>1.760000</td>\n",
              "      <td>0.075498</td>\n",
              "      <td>539.766667</td>\n",
              "      <td>70.455683</td>\n",
              "      <td>0.338667</td>\n",
              "      <td>0.212886</td>\n",
              "    </tr>\n",
              "    <tr>\n",
              "      <th>2256</th>\n",
              "      <td>9</td>\n",
              "      <td>697.892</td>\n",
              "      <td>10931.50</td>\n",
              "      <td>11545.20</td>\n",
              "      <td>-0.197</td>\n",
              "      <td>0.189</td>\n",
              "      <td>-0.719</td>\n",
              "      <td>-0.01543</td>\n",
              "      <td>0.01483</td>\n",
              "      <td>-0.05633</td>\n",
              "      <td>1.680</td>\n",
              "      <td>1.770</td>\n",
              "      <td>1.830</td>\n",
              "      <td>462.2</td>\n",
              "      <td>557.3</td>\n",
              "      <td>599.8</td>\n",
              "      <td>0.469</td>\n",
              "      <td>0.454</td>\n",
              "      <td>0.093</td>\n",
              "      <td>11238.35</td>\n",
              "      <td>433.951432</td>\n",
              "      <td>-0.242333</td>\n",
              "      <td>0.455694</td>\n",
              "      <td>-0.018977</td>\n",
              "      <td>0.035712</td>\n",
              "      <td>1.760000</td>\n",
              "      <td>0.075498</td>\n",
              "      <td>539.766667</td>\n",
              "      <td>70.455683</td>\n",
              "      <td>0.338667</td>\n",
              "      <td>0.212886</td>\n",
              "    </tr>\n",
              "    <tr>\n",
              "      <th>2257</th>\n",
              "      <td>9</td>\n",
              "      <td>698.878</td>\n",
              "      <td>10056.70</td>\n",
              "      <td>10951.60</td>\n",
              "      <td>-0.197</td>\n",
              "      <td>0.189</td>\n",
              "      <td>-0.719</td>\n",
              "      <td>-0.01543</td>\n",
              "      <td>0.01483</td>\n",
              "      <td>-0.05633</td>\n",
              "      <td>1.680</td>\n",
              "      <td>1.770</td>\n",
              "      <td>1.830</td>\n",
              "      <td>462.2</td>\n",
              "      <td>557.3</td>\n",
              "      <td>599.8</td>\n",
              "      <td>0.469</td>\n",
              "      <td>0.454</td>\n",
              "      <td>0.093</td>\n",
              "      <td>10504.15</td>\n",
              "      <td>632.789858</td>\n",
              "      <td>-0.242333</td>\n",
              "      <td>0.455694</td>\n",
              "      <td>-0.018977</td>\n",
              "      <td>0.035712</td>\n",
              "      <td>1.760000</td>\n",
              "      <td>0.075498</td>\n",
              "      <td>539.766667</td>\n",
              "      <td>70.455683</td>\n",
              "      <td>0.338667</td>\n",
              "      <td>0.212886</td>\n",
              "    </tr>\n",
              "    <tr>\n",
              "      <th>2258</th>\n",
              "      <td>9</td>\n",
              "      <td>700.111</td>\n",
              "      <td>9142.07</td>\n",
              "      <td>8348.41</td>\n",
              "      <td>-0.197</td>\n",
              "      <td>0.189</td>\n",
              "      <td>-0.719</td>\n",
              "      <td>-0.01543</td>\n",
              "      <td>0.01483</td>\n",
              "      <td>-0.05633</td>\n",
              "      <td>1.680</td>\n",
              "      <td>1.770</td>\n",
              "      <td>1.830</td>\n",
              "      <td>462.2</td>\n",
              "      <td>557.3</td>\n",
              "      <td>599.8</td>\n",
              "      <td>0.469</td>\n",
              "      <td>0.454</td>\n",
              "      <td>0.093</td>\n",
              "      <td>8745.24</td>\n",
              "      <td>561.202368</td>\n",
              "      <td>-0.242333</td>\n",
              "      <td>0.455694</td>\n",
              "      <td>-0.018977</td>\n",
              "      <td>0.035712</td>\n",
              "      <td>1.760000</td>\n",
              "      <td>0.075498</td>\n",
              "      <td>539.766667</td>\n",
              "      <td>70.455683</td>\n",
              "      <td>0.338667</td>\n",
              "      <td>0.212886</td>\n",
              "    </tr>\n",
              "  </tbody>\n",
              "</table>\n",
              "<p>2259 rows × 31 columns</p>\n",
              "</div>"
            ],
            "text/plain": [
              "      cl       nm         F1  ...          ds         p        ps\n",
              "0      1  450.059  222085.00  ...  131.670042  0.713000  0.110014\n",
              "1      1  451.045  227460.00  ...  131.670042  0.713000  0.110014\n",
              "2      1  452.032  223112.00  ...  131.670042  0.713000  0.110014\n",
              "3      1  453.018  226330.00  ...  131.670042  0.713000  0.110014\n",
              "4      1  454.004  224318.00  ...  131.670042  0.713000  0.110014\n",
              "...   ..      ...        ...  ...         ...       ...       ...\n",
              "2254   9  695.919   14586.10  ...   70.455683  0.338667  0.212886\n",
              "2255   9  696.905   13155.60  ...   70.455683  0.338667  0.212886\n",
              "2256   9  697.892   10931.50  ...   70.455683  0.338667  0.212886\n",
              "2257   9  698.878   10056.70  ...   70.455683  0.338667  0.212886\n",
              "2258   9  700.111    9142.07  ...   70.455683  0.338667  0.212886\n",
              "\n",
              "[2259 rows x 31 columns]"
            ]
          },
          "metadata": {
            "tags": []
          },
          "execution_count": 139
        }
      ]
    },
    {
      "cell_type": "code",
      "metadata": {
        "colab": {
          "base_uri": "https://localhost:8080/",
          "height": 406
        },
        "id": "iH4Bf37RW4-A",
        "outputId": "5b12a138-b706-4019-9d98-b145bf169ab6"
      },
      "source": [
        "dg=df_fish.loc[:,\"F\":\"ps\"]\n",
        "dg['cl']=df_fish['cl']\n",
        "dg.to_csv(\"fish_filtered.csv\")\n",
        "\n",
        "dg"
      ],
      "execution_count": 140,
      "outputs": [
        {
          "output_type": "execute_result",
          "data": {
            "text/html": [
              "<div>\n",
              "<style scoped>\n",
              "    .dataframe tbody tr th:only-of-type {\n",
              "        vertical-align: middle;\n",
              "    }\n",
              "\n",
              "    .dataframe tbody tr th {\n",
              "        vertical-align: top;\n",
              "    }\n",
              "\n",
              "    .dataframe thead th {\n",
              "        text-align: right;\n",
              "    }\n",
              "</style>\n",
              "<table border=\"1\" class=\"dataframe\">\n",
              "  <thead>\n",
              "    <tr style=\"text-align: right;\">\n",
              "      <th></th>\n",
              "      <th>F</th>\n",
              "      <th>Fs</th>\n",
              "      <th>Z</th>\n",
              "      <th>Zs</th>\n",
              "      <th>K</th>\n",
              "      <th>Ks</th>\n",
              "      <th>M</th>\n",
              "      <th>Ms</th>\n",
              "      <th>d</th>\n",
              "      <th>ds</th>\n",
              "      <th>p</th>\n",
              "      <th>ps</th>\n",
              "      <th>cl</th>\n",
              "    </tr>\n",
              "  </thead>\n",
              "  <tbody>\n",
              "    <tr>\n",
              "      <th>0</th>\n",
              "      <td>221884.00</td>\n",
              "      <td>284.256926</td>\n",
              "      <td>-0.363333</td>\n",
              "      <td>0.258504</td>\n",
              "      <td>0.942333</td>\n",
              "      <td>0.022723</td>\n",
              "      <td>0.942333</td>\n",
              "      <td>0.022723</td>\n",
              "      <td>1136.000000</td>\n",
              "      <td>131.670042</td>\n",
              "      <td>0.713000</td>\n",
              "      <td>0.110014</td>\n",
              "      <td>1</td>\n",
              "    </tr>\n",
              "    <tr>\n",
              "      <th>1</th>\n",
              "      <td>224125.00</td>\n",
              "      <td>4716.402231</td>\n",
              "      <td>-0.363333</td>\n",
              "      <td>0.258504</td>\n",
              "      <td>0.942333</td>\n",
              "      <td>0.022723</td>\n",
              "      <td>0.942333</td>\n",
              "      <td>0.022723</td>\n",
              "      <td>1136.000000</td>\n",
              "      <td>131.670042</td>\n",
              "      <td>0.713000</td>\n",
              "      <td>0.110014</td>\n",
              "      <td>1</td>\n",
              "    </tr>\n",
              "    <tr>\n",
              "      <th>2</th>\n",
              "      <td>223212.50</td>\n",
              "      <td>142.128463</td>\n",
              "      <td>-0.363333</td>\n",
              "      <td>0.258504</td>\n",
              "      <td>0.942333</td>\n",
              "      <td>0.022723</td>\n",
              "      <td>0.942333</td>\n",
              "      <td>0.022723</td>\n",
              "      <td>1136.000000</td>\n",
              "      <td>131.670042</td>\n",
              "      <td>0.713000</td>\n",
              "      <td>0.110014</td>\n",
              "      <td>1</td>\n",
              "    </tr>\n",
              "    <tr>\n",
              "      <th>3</th>\n",
              "      <td>224749.00</td>\n",
              "      <td>2235.871642</td>\n",
              "      <td>-0.363333</td>\n",
              "      <td>0.258504</td>\n",
              "      <td>0.942333</td>\n",
              "      <td>0.022723</td>\n",
              "      <td>0.942333</td>\n",
              "      <td>0.022723</td>\n",
              "      <td>1136.000000</td>\n",
              "      <td>131.670042</td>\n",
              "      <td>0.713000</td>\n",
              "      <td>0.110014</td>\n",
              "      <td>1</td>\n",
              "    </tr>\n",
              "    <tr>\n",
              "      <th>4</th>\n",
              "      <td>224122.50</td>\n",
              "      <td>276.478751</td>\n",
              "      <td>-0.363333</td>\n",
              "      <td>0.258504</td>\n",
              "      <td>0.942333</td>\n",
              "      <td>0.022723</td>\n",
              "      <td>0.942333</td>\n",
              "      <td>0.022723</td>\n",
              "      <td>1136.000000</td>\n",
              "      <td>131.670042</td>\n",
              "      <td>0.713000</td>\n",
              "      <td>0.110014</td>\n",
              "      <td>1</td>\n",
              "    </tr>\n",
              "    <tr>\n",
              "      <th>...</th>\n",
              "      <td>...</td>\n",
              "      <td>...</td>\n",
              "      <td>...</td>\n",
              "      <td>...</td>\n",
              "      <td>...</td>\n",
              "      <td>...</td>\n",
              "      <td>...</td>\n",
              "      <td>...</td>\n",
              "      <td>...</td>\n",
              "      <td>...</td>\n",
              "      <td>...</td>\n",
              "      <td>...</td>\n",
              "      <td>...</td>\n",
              "    </tr>\n",
              "    <tr>\n",
              "      <th>2254</th>\n",
              "      <td>14621.35</td>\n",
              "      <td>49.851028</td>\n",
              "      <td>-0.242333</td>\n",
              "      <td>0.455694</td>\n",
              "      <td>-0.018977</td>\n",
              "      <td>0.035712</td>\n",
              "      <td>1.760000</td>\n",
              "      <td>0.075498</td>\n",
              "      <td>539.766667</td>\n",
              "      <td>70.455683</td>\n",
              "      <td>0.338667</td>\n",
              "      <td>0.212886</td>\n",
              "      <td>9</td>\n",
              "    </tr>\n",
              "    <tr>\n",
              "      <th>2255</th>\n",
              "      <td>13070.00</td>\n",
              "      <td>121.056681</td>\n",
              "      <td>-0.242333</td>\n",
              "      <td>0.455694</td>\n",
              "      <td>-0.018977</td>\n",
              "      <td>0.035712</td>\n",
              "      <td>1.760000</td>\n",
              "      <td>0.075498</td>\n",
              "      <td>539.766667</td>\n",
              "      <td>70.455683</td>\n",
              "      <td>0.338667</td>\n",
              "      <td>0.212886</td>\n",
              "      <td>9</td>\n",
              "    </tr>\n",
              "    <tr>\n",
              "      <th>2256</th>\n",
              "      <td>11238.35</td>\n",
              "      <td>433.951432</td>\n",
              "      <td>-0.242333</td>\n",
              "      <td>0.455694</td>\n",
              "      <td>-0.018977</td>\n",
              "      <td>0.035712</td>\n",
              "      <td>1.760000</td>\n",
              "      <td>0.075498</td>\n",
              "      <td>539.766667</td>\n",
              "      <td>70.455683</td>\n",
              "      <td>0.338667</td>\n",
              "      <td>0.212886</td>\n",
              "      <td>9</td>\n",
              "    </tr>\n",
              "    <tr>\n",
              "      <th>2257</th>\n",
              "      <td>10504.15</td>\n",
              "      <td>632.789858</td>\n",
              "      <td>-0.242333</td>\n",
              "      <td>0.455694</td>\n",
              "      <td>-0.018977</td>\n",
              "      <td>0.035712</td>\n",
              "      <td>1.760000</td>\n",
              "      <td>0.075498</td>\n",
              "      <td>539.766667</td>\n",
              "      <td>70.455683</td>\n",
              "      <td>0.338667</td>\n",
              "      <td>0.212886</td>\n",
              "      <td>9</td>\n",
              "    </tr>\n",
              "    <tr>\n",
              "      <th>2258</th>\n",
              "      <td>8745.24</td>\n",
              "      <td>561.202368</td>\n",
              "      <td>-0.242333</td>\n",
              "      <td>0.455694</td>\n",
              "      <td>-0.018977</td>\n",
              "      <td>0.035712</td>\n",
              "      <td>1.760000</td>\n",
              "      <td>0.075498</td>\n",
              "      <td>539.766667</td>\n",
              "      <td>70.455683</td>\n",
              "      <td>0.338667</td>\n",
              "      <td>0.212886</td>\n",
              "      <td>9</td>\n",
              "    </tr>\n",
              "  </tbody>\n",
              "</table>\n",
              "<p>2259 rows × 13 columns</p>\n",
              "</div>"
            ],
            "text/plain": [
              "              F           Fs         Z  ...         p        ps  cl\n",
              "0     221884.00   284.256926 -0.363333  ...  0.713000  0.110014   1\n",
              "1     224125.00  4716.402231 -0.363333  ...  0.713000  0.110014   1\n",
              "2     223212.50   142.128463 -0.363333  ...  0.713000  0.110014   1\n",
              "3     224749.00  2235.871642 -0.363333  ...  0.713000  0.110014   1\n",
              "4     224122.50   276.478751 -0.363333  ...  0.713000  0.110014   1\n",
              "...         ...          ...       ...  ...       ...       ...  ..\n",
              "2254   14621.35    49.851028 -0.242333  ...  0.338667  0.212886   9\n",
              "2255   13070.00   121.056681 -0.242333  ...  0.338667  0.212886   9\n",
              "2256   11238.35   433.951432 -0.242333  ...  0.338667  0.212886   9\n",
              "2257   10504.15   632.789858 -0.242333  ...  0.338667  0.212886   9\n",
              "2258    8745.24   561.202368 -0.242333  ...  0.338667  0.212886   9\n",
              "\n",
              "[2259 rows x 13 columns]"
            ]
          },
          "metadata": {
            "tags": []
          },
          "execution_count": 140
        }
      ]
    },
    {
      "cell_type": "code",
      "metadata": {
        "colab": {
          "base_uri": "https://localhost:8080/"
        },
        "id": "gzLKDSYlgxuW",
        "outputId": "bc824275-b16f-4ac2-f52e-53df30a6b39e"
      },
      "source": [
        "s=pd.read_csv(\"fish_filtered.csv\")\n",
        "list(s)"
      ],
      "execution_count": 163,
      "outputs": [
        {
          "output_type": "execute_result",
          "data": {
            "text/plain": [
              "['Unnamed: 0',\n",
              " 'F',\n",
              " 'Fs',\n",
              " 'Z',\n",
              " 'Zs',\n",
              " 'K',\n",
              " 'Ks',\n",
              " 'M',\n",
              " 'Ms',\n",
              " 'd',\n",
              " 'ds',\n",
              " 'p',\n",
              " 'ps',\n",
              " 'cl']"
            ]
          },
          "metadata": {
            "tags": []
          },
          "execution_count": 163
        }
      ]
    },
    {
      "cell_type": "code",
      "metadata": {
        "colab": {
          "base_uri": "https://localhost:8080/"
        },
        "id": "58waRvYqZqmS",
        "outputId": "27f111a4-6efc-42e5-9223-04b910423b70"
      },
      "source": [
        " \n",
        "X = dg.iloc[:, 0:12].values \n",
        "y = dg.iloc[:, 12].values \n",
        "X.shape\n",
        " "
      ],
      "execution_count": 164,
      "outputs": [
        {
          "output_type": "execute_result",
          "data": {
            "text/plain": [
              "(2259, 12)"
            ]
          },
          "metadata": {
            "tags": []
          },
          "execution_count": 164
        }
      ]
    },
    {
      "cell_type": "code",
      "metadata": {
        "colab": {
          "base_uri": "https://localhost:8080/"
        },
        "id": "SzykTV5SGGI3",
        "outputId": "d2a7e8eb-faea-4b97-e721-b5464e0d23a0"
      },
      "source": [
        "y = dg.iloc[:, 12]\n",
        "y"
      ],
      "execution_count": 165,
      "outputs": [
        {
          "output_type": "execute_result",
          "data": {
            "text/plain": [
              "0       1\n",
              "1       1\n",
              "2       1\n",
              "3       1\n",
              "4       1\n",
              "       ..\n",
              "2254    9\n",
              "2255    9\n",
              "2256    9\n",
              "2257    9\n",
              "2258    9\n",
              "Name: cl, Length: 2259, dtype: int64"
            ]
          },
          "metadata": {
            "tags": []
          },
          "execution_count": 165
        }
      ]
    },
    {
      "cell_type": "code",
      "metadata": {
        "id": "vIXr2WwrHt7m"
      },
      "source": [
        "from sklearn.model_selection import train_test_split \n",
        "  \n",
        "X_train, X_test, y_train, y_test = train_test_split(X, y, test_size = 0.2, random_state = 0) "
      ],
      "execution_count": 166,
      "outputs": []
    },
    {
      "cell_type": "code",
      "metadata": {
        "id": "96L3NcsAIVZn"
      },
      "source": [
        "from sklearn.preprocessing import StandardScaler \n",
        "sc = StandardScaler() \n",
        "  \n",
        "X_train = sc.fit_transform(X_train) \n",
        "X_test = sc.transform(X_test)"
      ],
      "execution_count": 167,
      "outputs": []
    },
    {
      "cell_type": "code",
      "metadata": {
        "id": "gsv5_50gIlTv"
      },
      "source": [
        "from sklearn.decomposition import PCA \n",
        "  \n",
        "pca = PCA(n_components = 2) \n",
        "  \n",
        "X_train = pca.fit_transform(X_train) \n",
        "X_test = pca.transform(X_test) \n",
        "  \n",
        "explained_variance = pca.explained_variance_ratio_ \n"
      ],
      "execution_count": 168,
      "outputs": []
    },
    {
      "cell_type": "code",
      "metadata": {
        "colab": {
          "base_uri": "https://localhost:8080/"
        },
        "id": "zqe8FaF-IuyU",
        "outputId": "85c57c73-ade9-487b-d142-e5f352af93d9"
      },
      "source": [
        "from sklearn.linear_model import LogisticRegression   \n",
        "  \n",
        "classifier = LogisticRegression(random_state = 0) \n",
        "classifier.fit(X_train, y_train) "
      ],
      "execution_count": 169,
      "outputs": [
        {
          "output_type": "stream",
          "text": [
            "/usr/local/lib/python3.6/dist-packages/sklearn/linear_model/_logistic.py:940: ConvergenceWarning: lbfgs failed to converge (status=1):\n",
            "STOP: TOTAL NO. of ITERATIONS REACHED LIMIT.\n",
            "\n",
            "Increase the number of iterations (max_iter) or scale the data as shown in:\n",
            "    https://scikit-learn.org/stable/modules/preprocessing.html\n",
            "Please also refer to the documentation for alternative solver options:\n",
            "    https://scikit-learn.org/stable/modules/linear_model.html#logistic-regression\n",
            "  extra_warning_msg=_LOGISTIC_SOLVER_CONVERGENCE_MSG)\n"
          ],
          "name": "stderr"
        },
        {
          "output_type": "execute_result",
          "data": {
            "text/plain": [
              "LogisticRegression(C=1.0, class_weight=None, dual=False, fit_intercept=True,\n",
              "                   intercept_scaling=1, l1_ratio=None, max_iter=100,\n",
              "                   multi_class='auto', n_jobs=None, penalty='l2',\n",
              "                   random_state=0, solver='lbfgs', tol=0.0001, verbose=0,\n",
              "                   warm_start=False)"
            ]
          },
          "metadata": {
            "tags": []
          },
          "execution_count": 169
        }
      ]
    },
    {
      "cell_type": "code",
      "metadata": {
        "id": "pLaJ7rnzJDNs"
      },
      "source": [
        "y_pred = classifier.predict(X_test) \n"
      ],
      "execution_count": 170,
      "outputs": []
    },
    {
      "cell_type": "code",
      "metadata": {
        "colab": {
          "base_uri": "https://localhost:8080/"
        },
        "id": "XRvr0VrSJL00",
        "outputId": "323ee19d-7729-436c-929e-35d582648690"
      },
      "source": [
        "from sklearn.metrics import confusion_matrix \n",
        "  \n",
        "cm = confusion_matrix(y_test, y_pred) \n",
        "cm"
      ],
      "execution_count": 171,
      "outputs": [
        {
          "output_type": "execute_result",
          "data": {
            "text/plain": [
              "array([[52,  0,  0,  0,  0,  0,  0,  0,  0],\n",
              "       [ 0, 55,  0,  1,  0,  0,  0,  0,  0],\n",
              "       [ 0,  0, 57,  0,  0,  0,  0,  0,  0],\n",
              "       [ 0,  0,  0, 37,  0,  0,  0,  0,  0],\n",
              "       [ 0,  0,  0,  0, 45,  0,  0,  0,  0],\n",
              "       [ 0,  0,  0,  0,  0, 52,  0,  0,  0],\n",
              "       [ 0,  0,  0,  0,  0,  0, 59,  0,  0],\n",
              "       [ 0,  0,  1,  0,  0,  0,  0, 38,  0],\n",
              "       [ 2,  0,  0,  0,  0,  0,  0,  0, 53]])"
            ]
          },
          "metadata": {
            "tags": []
          },
          "execution_count": 171
        }
      ]
    },
    {
      "cell_type": "code",
      "metadata": {
        "colab": {
          "base_uri": "https://localhost:8080/",
          "height": 497
        },
        "id": "HyvJVIYCJTzz",
        "outputId": "db5da679-8502-47fa-b1b5-5435d576ffe2"
      },
      "source": [
        "from matplotlib.colors import ListedColormap \n",
        "  \n",
        "X_set, y_set = X_train, y_train \n",
        "X1, X2 = np.meshgrid(np.arange(start = X_set[:, 0].min() - 3, \n",
        "                     stop = X_set[:, 0].max() + 1, step = 0.01), \n",
        "                     np.arange(start = X_set[:, 1].min() - 3, \n",
        "                     stop = X_set[:, 1].max() + 1, step = 0.01)) \n",
        "  \n",
        "plt.contourf(X1, X2, classifier.predict(np.array([X1.ravel(), \n",
        "             X2.ravel()]).T).reshape(X1.shape), alpha = 0.65, \n",
        "             cmap = ListedColormap(('yellow', 'white', 'aquamarine'))) \n",
        "  \n",
        "plt.xlim(X1.min(), X1.max()) \n",
        "plt.ylim(X2.min(), X2.max()) \n",
        "  \n",
        "for i, j in enumerate(np.unique(y_set)): \n",
        "    plt.scatter(X_set[y_set == j, 0], X_set[y_set == j, 1], \n",
        "                c = ListedColormap(('red', 'green', 'blue','pink','orange','brown','cyan','black','gray'))(i), label = j) \n",
        "  \n",
        "plt.title('Logistic Regression (Training set)') \n",
        "plt.xlabel('PC1') # for Xlabel \n",
        "plt.ylabel('PC2') # for Ylabel \n",
        "#plt.legend() # to show legend \n",
        "plt.legend(loc='upper left', labelspacing=.2)\n",
        "# show scatter plot \n",
        "plt.show() "
      ],
      "execution_count": 195,
      "outputs": [
        {
          "output_type": "stream",
          "text": [
            "*c* argument looks like a single numeric RGB or RGBA sequence, which should be avoided as value-mapping will have precedence in case its length matches with *x* & *y*.  Please use the *color* keyword-argument or provide a 2-D array with a single row if you intend to specify the same RGB or RGBA value for all points.\n",
            "*c* argument looks like a single numeric RGB or RGBA sequence, which should be avoided as value-mapping will have precedence in case its length matches with *x* & *y*.  Please use the *color* keyword-argument or provide a 2-D array with a single row if you intend to specify the same RGB or RGBA value for all points.\n",
            "*c* argument looks like a single numeric RGB or RGBA sequence, which should be avoided as value-mapping will have precedence in case its length matches with *x* & *y*.  Please use the *color* keyword-argument or provide a 2-D array with a single row if you intend to specify the same RGB or RGBA value for all points.\n",
            "*c* argument looks like a single numeric RGB or RGBA sequence, which should be avoided as value-mapping will have precedence in case its length matches with *x* & *y*.  Please use the *color* keyword-argument or provide a 2-D array with a single row if you intend to specify the same RGB or RGBA value for all points.\n",
            "*c* argument looks like a single numeric RGB or RGBA sequence, which should be avoided as value-mapping will have precedence in case its length matches with *x* & *y*.  Please use the *color* keyword-argument or provide a 2-D array with a single row if you intend to specify the same RGB or RGBA value for all points.\n",
            "*c* argument looks like a single numeric RGB or RGBA sequence, which should be avoided as value-mapping will have precedence in case its length matches with *x* & *y*.  Please use the *color* keyword-argument or provide a 2-D array with a single row if you intend to specify the same RGB or RGBA value for all points.\n",
            "*c* argument looks like a single numeric RGB or RGBA sequence, which should be avoided as value-mapping will have precedence in case its length matches with *x* & *y*.  Please use the *color* keyword-argument or provide a 2-D array with a single row if you intend to specify the same RGB or RGBA value for all points.\n",
            "*c* argument looks like a single numeric RGB or RGBA sequence, which should be avoided as value-mapping will have precedence in case its length matches with *x* & *y*.  Please use the *color* keyword-argument or provide a 2-D array with a single row if you intend to specify the same RGB or RGBA value for all points.\n",
            "*c* argument looks like a single numeric RGB or RGBA sequence, which should be avoided as value-mapping will have precedence in case its length matches with *x* & *y*.  Please use the *color* keyword-argument or provide a 2-D array with a single row if you intend to specify the same RGB or RGBA value for all points.\n"
          ],
          "name": "stderr"
        },
        {
          "output_type": "display_data",
          "data": {
            "image/png": "[encoded data removed]",
            "text/plain": [
              "<Figure size 432x288 with 1 Axes>"
            ]
          },
          "metadata": {
            "tags": [],
            "needs_background": "light"
          }
        }
      ]
    },
    {
      "cell_type": "code",
      "metadata": {
        "colab": {
          "base_uri": "https://localhost:8080/",
          "height": 497
        },
        "id": "-zvb_PFtJunS",
        "outputId": "4d6ff984-8e63-4d0e-9162-74fb9afa773c"
      },
      "source": [
        "from matplotlib.colors import ListedColormap \n",
        "  \n",
        "X_set, y_set = X_test, y_test \n",
        "  \n",
        "X1, X2 = np.meshgrid(np.arange(start = X_set[:, 0].min() - 3, \n",
        "                     stop = X_set[:, 0].max() + 1, step = 0.01), \n",
        "                     np.arange(start = X_set[:, 1].min() - 3, \n",
        "                     stop = X_set[:, 1].max() + 1, step = 0.01)) \n",
        "  \n",
        "plt.contourf(X1, X2, classifier.predict(np.array([X1.ravel(), \n",
        "             X2.ravel()]).T).reshape(X1.shape), alpha = 0.75, \n",
        "             cmap = ListedColormap(('yellow', 'white', 'aquamarine')))  \n",
        "  \n",
        "plt.xlim(X1.min(), X1.max()) \n",
        "plt.ylim(X2.min(), X2.max()) \n",
        "  \n",
        "for i, j in enumerate(np.unique(y_set)): \n",
        "    plt.scatter(X_set[y_set == j, 0], X_set[y_set == j, 1], \n",
        "                c = ListedColormap(('red', 'green', 'blue','pink','orange','brown','cyan','black','gray'))(i), label = j) \n",
        "  \n",
        "# title for scatter plot \n",
        "plt.title('Logistic Regression (Test set)')  \n",
        "plt.xlabel('PC1') # for Xlabel \n",
        "plt.ylabel('PC2') # for Ylabel \n",
        "#plt.legend() \n",
        "plt.legend(loc='upper left', labelspacing=.2) \n",
        "# show scatter plot \n",
        "plt.show() "
      ],
      "execution_count": 197,
      "outputs": [
        {
          "output_type": "stream",
          "text": [
            "*c* argument looks like a single numeric RGB or RGBA sequence, which should be avoided as value-mapping will have precedence in case its length matches with *x* & *y*.  Please use the *color* keyword-argument or provide a 2-D array with a single row if you intend to specify the same RGB or RGBA value for all points.\n",
            "*c* argument looks like a single numeric RGB or RGBA sequence, which should be avoided as value-mapping will have precedence in case its length matches with *x* & *y*.  Please use the *color* keyword-argument or provide a 2-D array with a single row if you intend to specify the same RGB or RGBA value for all points.\n",
            "*c* argument looks like a single numeric RGB or RGBA sequence, which should be avoided as value-mapping will have precedence in case its length matches with *x* & *y*.  Please use the *color* keyword-argument or provide a 2-D array with a single row if you intend to specify the same RGB or RGBA value for all points.\n",
            "*c* argument looks like a single numeric RGB or RGBA sequence, which should be avoided as value-mapping will have precedence in case its length matches with *x* & *y*.  Please use the *color* keyword-argument or provide a 2-D array with a single row if you intend to specify the same RGB or RGBA value for all points.\n",
            "*c* argument looks like a single numeric RGB or RGBA sequence, which should be avoided as value-mapping will have precedence in case its length matches with *x* & *y*.  Please use the *color* keyword-argument or provide a 2-D array with a single row if you intend to specify the same RGB or RGBA value for all points.\n",
            "*c* argument looks like a single numeric RGB or RGBA sequence, which should be avoided as value-mapping will have precedence in case its length matches with *x* & *y*.  Please use the *color* keyword-argument or provide a 2-D array with a single row if you intend to specify the same RGB or RGBA value for all points.\n",
            "*c* argument looks like a single numeric RGB or RGBA sequence, which should be avoided as value-mapping will have precedence in case its length matches with *x* & *y*.  Please use the *color* keyword-argument or provide a 2-D array with a single row if you intend to specify the same RGB or RGBA value for all points.\n",
            "*c* argument looks like a single numeric RGB or RGBA sequence, which should be avoided as value-mapping will have precedence in case its length matches with *x* & *y*.  Please use the *color* keyword-argument or provide a 2-D array with a single row if you intend to specify the same RGB or RGBA value for all points.\n",
            "*c* argument looks like a single numeric RGB or RGBA sequence, which should be avoided as value-mapping will have precedence in case its length matches with *x* & *y*.  Please use the *color* keyword-argument or provide a 2-D array with a single row if you intend to specify the same RGB or RGBA value for all points.\n"
          ],
          "name": "stderr"
        },
        {
          "output_type": "display_data",
          "data": {
            "image/png": "[encoded data removed]",
            "text/plain": [
              "<Figure size 432x288 with 1 Axes>"
            ]
          },
          "metadata": {
            "tags": [],
            "needs_background": "light"
          }
        }
      ]
    },
    {
      "cell_type": "code",
      "metadata": {
        "colab": {
          "base_uri": "https://localhost:8080/"
        },
        "id": "c4cYm1OGfnj0",
        "outputId": "fbda8776-8a5a-428e-c66e-76e26d72aeba"
      },
      "source": [
        "!ls *.csv"
      ],
      "execution_count": 152,
      "outputs": [
        {
          "output_type": "stream",
          "text": [
            "cdT1.csv\t   fishywater.csv  ptbdb_abnormal.csv\n",
            "death_18_1.csv\t   flights.csv\t   ptbdb_normal.csv\n",
            "fish_filtered.csv  nnfinal.csv\t   wpig_wdissolvedsolid_triplet.csv\n"
          ],
          "name": "stdout"
        }
      ]
    },
    {
      "cell_type": "markdown",
      "metadata": {
        "id": "O4ysk-WqMWbc"
      },
      "source": [
        "# Biplot"
      ]
    },
    {
      "cell_type": "code",
      "metadata": {
        "colab": {
          "base_uri": "https://localhost:8080/",
          "height": 320
        },
        "id": "tFgYAHsIL7ga",
        "outputId": "1f810213-59d2-459c-bd69-6119c5f4dc05"
      },
      "source": [
        "X = dg.iloc[:, 0:12].values \n",
        "y = dg.iloc[:, 12].values \n",
        "scaler = StandardScaler()\n",
        "scaler.fit(X)\n",
        "X=scaler.transform(X)    \n",
        "pca = PCA()\n",
        "x_new = pca.fit_transform(X)\n",
        "\n",
        "def myplot(score,coeff,labels):\n",
        "    xs = score[:,0]\n",
        "    ys = score[:,1]\n",
        "    n = coeff.shape[0]\n",
        "    scalex = 1.0/(xs.max() - xs.min())\n",
        "    scaley = 1.0/(ys.max() - ys.min())\n",
        "    plt.scatter(xs * scalex,ys * scaley, c = y)\n",
        "    for i in range(n):\n",
        "        plt.arrow(0, 0, coeff[i,0], coeff[i,1],color = 'k',alpha = 0.5)\n",
        "        if labels is None:\n",
        "            plt.text(coeff[i,0]* 1.15, coeff[i,1] * 1.15, \"Var\"+str(i+1), color = 'g', ha = 'center', va = 'center')\n",
        "        else:\n",
        "            plt.text(coeff[i,0]* 1.15, coeff[i,1] * 1.15, labels[i], color = 'g', ha = 'center', va = 'center')\n",
        "    plt.xlim(-1,1)\n",
        "    plt.ylim(-1,1)\n",
        "    plt.xlabel(\"PC{}\".format(1))\n",
        "    plt.ylabel(\"PC{}\".format(2))\n",
        "    plt.grid()\n",
        "\n",
        "#Call the function. Use only the 2 PCs.\n",
        "myplot(x_new[:,0:2],np.transpose(pca.components_[0:2, :]),labels=list(dg))\n",
        "plt.legend()\n",
        "plt.show()"
      ],
      "execution_count": 188,
      "outputs": [
        {
          "output_type": "stream",
          "text": [
            "No handles with labels found to put in legend.\n"
          ],
          "name": "stderr"
        },
        {
          "output_type": "display_data",
          "data": {
            "image/png": "[encoded data removed]",
            "text/plain": [
              "<Figure size 432x288 with 1 Axes>"
            ]
          },
          "metadata": {
            "tags": [],
            "needs_background": "light"
          }
        }
      ]
    },
    {
      "cell_type": "markdown",
      "metadata": {
        "id": "7fyH4PNBwPJF"
      },
      "source": [
        "# Another way of python based biplot"
      ]
    },
    {
      "cell_type": "code",
      "metadata": {
        "colab": {
          "base_uri": "https://localhost:8080/"
        },
        "id": "eTxBl5eEyWZI",
        "outputId": "92741fbb-a8e4-4166-fc84-5016738badbe"
      },
      "source": [
        "X = dg.iloc[:, 0:12].values \n",
        "y = dg.iloc[:, 12].values \n",
        "H=np.array([list(dg)])\n",
        "h=H[:,1:12]\n",
        "h"
      ],
      "execution_count": 154,
      "outputs": [
        {
          "output_type": "execute_result",
          "data": {
            "text/plain": [
              "array([['Fs', 'Z', 'Zs', 'K', 'Ks', 'M', 'Ms', 'd', 'ds', 'p', 'ps']],\n",
              "      dtype='<U2')"
            ]
          },
          "metadata": {
            "tags": []
          },
          "execution_count": 154
        }
      ]
    },
    {
      "cell_type": "markdown",
      "metadata": {
        "id": "LKqQ_IMu083y"
      },
      "source": [
        ""
      ]
    },
    {
      "cell_type": "markdown",
      "metadata": {
        "id": "QMkNb9BQOkjv"
      },
      "source": [
        "# Another PCA implementation (Using R)"
      ]
    },
    {
      "cell_type": "code",
      "metadata": {
        "id": "OWU4IRMP1D8O"
      },
      "source": [
        "def biplot(X,header,target,scale = True,labels=None):\n",
        "  import numpy as np\n",
        "  from sklearn.decomposition import PCA\n",
        "  from sklearn.preprocessing import StandardScaler\n",
        "  import matplotlib.pyplot as plt\n",
        "  plt.figure(figsize=(14, 14))\n",
        "  plt.rcParams.update({'font.size': 18, 'font.family': 'serif'})\n",
        "\n",
        "  if scale:\n",
        "    scaler = StandardScaler()\n",
        "    scaler.fit(X)\n",
        "    X = scaler.transform(X) \n",
        "\n",
        "  pca = PCA()\n",
        "  x_new = pca.fit_transform(X)  \n",
        "  score = x_new[:,0:2]\n",
        "  coeff = np.transpose(pca.components_[0:2, :])  \n",
        "\n",
        "  xs = score[:,0]\n",
        "  ys = score[:,1]\n",
        "  scalex = 1.0/(xs.max() - xs.min())\n",
        "  scaley = 1.0/(ys.max() - ys.min())\n",
        "\n",
        "  scatter = plt.scatter(xs * scalex,ys * scaley, c = target)\n",
        "\n",
        "  ll = np.unique(target)\n",
        "  handles = [plt.Line2D([],[],marker=\"o\", ls=\"\", \n",
        "                      color=scatter.cmap(scatter.norm(yi))) for yi in ll]\n",
        "  plt.legend(handles, ll)\n",
        "\n",
        "  for i,val in enumerate(header):\n",
        "      plt.arrow(0, 0, coeff[i,0], coeff[i,1],color = 'r',alpha = 0.5)\n",
        "      if labels is None:\n",
        "          plt.text(coeff[i,0]* 1.15, coeff[i,1] * 1.15, val, color = 'g', ha = 'center', va = 'center')\n",
        "      else:\n",
        "          plt.text(coeff[i,0]* 1.15, coeff[i,1] * 1.15, labels[i], color = 'g', ha = 'center', va = 'center')\n",
        "\n",
        "  plt.xlim(-1,1)\n",
        "  plt.ylim(-1,1)\n",
        "  plt.xlabel(\"PC{}\".format(1))\n",
        "  plt.ylabel(\"PC{}\".format(2))\n",
        "  plt.grid()\n",
        "\n"
      ],
      "execution_count": 155,
      "outputs": []
    },
    {
      "cell_type": "code",
      "metadata": {
        "colab": {
          "base_uri": "https://localhost:8080/",
          "height": 845
        },
        "id": "I90hpgVc1rKX",
        "outputId": "eb10644f-d7c2-435a-dde5-4087be7dd565"
      },
      "source": [
        "biplot(X,list(dg)[1:12],y,scale =True,labels=None)\n"
      ],
      "execution_count": 156,
      "outputs": [
        {
          "output_type": "display_data",
          "data": {
            "image/png": "[encoded data removed]",
            "text/plain": [
              "<Figure size 1008x1008 with 1 Axes>"
            ]
          },
          "metadata": {
            "tags": [],
            "needs_background": "light"
          }
        }
      ]
    },
    {
      "cell_type": "code",
      "metadata": {
        "colab": {
          "base_uri": "https://localhost:8080/"
        },
        "id": "8VxZ4MNjfOkv",
        "outputId": "24d8b24f-41e2-4a1c-c0e6-615bfe65ce5b"
      },
      "source": [
        "%load_ext rpy2.ipython"
      ],
      "execution_count": 157,
      "outputs": [
        {
          "output_type": "stream",
          "text": [
            "The rpy2.ipython extension is already loaded. To reload it, use:\n",
            "  %reload_ext rpy2.ipython\n"
          ],
          "name": "stdout"
        }
      ]
    },
    {
      "cell_type": "code",
      "metadata": {
        "colab": {
          "base_uri": "https://localhost:8080/"
        },
        "id": "0C6_n0iyfYON",
        "outputId": "3c92a789-22c0-4e58-b21f-1dfcb8052e8e"
      },
      "source": [
        "%%R\n",
        "library(devtools)\n",
        "install_github(\"vqv/ggbiplot\")\n",
        "library(ggbiplot)"
      ],
      "execution_count": 158,
      "outputs": [
        {
          "output_type": "stream",
          "text": [
            "R[write to console]: Skipping install of 'ggbiplot' from a github remote, the SHA1 (7325e880) has not changed since last install.\n",
            "  Use `force = TRUE` to force installation\n",
            "\n"
          ],
          "name": "stderr"
        }
      ]
    },
    {
      "cell_type": "code",
      "metadata": {
        "id": "SxQIAj8hMGCd"
      },
      "source": [
        "%%R\n",
        "fish<-read.csv(\"fish_filtered.csv\")"
      ],
      "execution_count": 159,
      "outputs": []
    },
    {
      "cell_type": "code",
      "metadata": {
        "colab": {
          "base_uri": "https://localhost:8080/"
        },
        "id": "S7SR78P_MKDU",
        "outputId": "d28576b9-3832-4056-e4a0-77587681c712"
      },
      "source": [
        "%%R\n",
        "summary(fish)"
      ],
      "execution_count": 160,
      "outputs": [
        {
          "output_type": "stream",
          "text": [
            "       X                F                 Fs                Z          \n",
            " Min.   :   0.0   Min.   :   6411   Min.   :    0.0   Min.   :-0.3633  \n",
            " 1st Qu.: 564.5   1st Qu.:  61800   1st Qu.:  369.3   1st Qu.:-0.2423  \n",
            " Median :1129.0   Median : 128122   Median :  922.8   Median :-0.0732  \n",
            " Mean   :1129.0   Mean   : 194200   Mean   : 1581.8   Mean   :-0.1156  \n",
            " 3rd Qu.:1693.5   3rd Qu.: 201046   3rd Qu.: 1877.7   3rd Qu.:-0.0367  \n",
            " Max.   :2258.0   Max.   :1565000   Max.   :21213.2   Max.   : 0.1484  \n",
            "       Zs               K                   Ks                 M          \n",
            " Min.   :0.0700   Min.   :-0.023783   Min.   :0.005476   Min.   : 0.9423  \n",
            " 1st Qu.:0.1220   1st Qu.:-0.013337   1st Qu.:0.009573   1st Qu.: 2.4767  \n",
            " Median :0.2585   Median :-0.005560   Median :0.022723   Median : 2.8200  \n",
            " Mean   :0.7017   Mean   : 0.098836   Mean   :0.055294   Mean   : 4.5573  \n",
            " 3rd Qu.:0.4557   3rd Qu.: 0.005836   3rd Qu.:0.035712   3rd Qu.: 3.5633  \n",
            " Max.   :2.9772   Max.   : 0.942333   Max.   :0.233552   Max.   :13.8667  \n",
            "       Ms                d                ds               p         \n",
            " Min.   :0.02272   Min.   : 539.8   Min.   : 23.43   Min.   :0.3387  \n",
            " 1st Qu.:0.13503   1st Qu.: 754.2   1st Qu.: 70.46   1st Qu.:0.6920  \n",
            " Median :0.16921   Median :1118.8   Median :105.43   Median :0.7537  \n",
            " Mean   :0.15951   Mean   :1046.8   Mean   :155.79   Mean   :0.7199  \n",
            " 3rd Qu.:0.20404   3rd Qu.:1235.3   3rd Qu.:279.54   3rd Qu.:0.8303  \n",
            " Max.   :0.26102   Max.   :1705.0   Max.   :368.43   Max.   :0.9237  \n",
            "       ps                cl   \n",
            " Min.   :0.03612   Min.   :1  \n",
            " 1st Qu.:0.06010   1st Qu.:3  \n",
            " Median :0.12211   Median :5  \n",
            " Mean   :0.12769   Mean   :5  \n",
            " 3rd Qu.:0.14850   3rd Qu.:7  \n",
            " Max.   :0.27385   Max.   :9  \n"
          ],
          "name": "stdout"
        }
      ]
    },
    {
      "cell_type": "code",
      "metadata": {
        "colab": {
          "base_uri": "https://localhost:8080/",
          "height": 496
        },
        "id": "tMqzWFfGNgZ8",
        "outputId": "27450fb0-90af-4db3-c482-e0770fd68061"
      },
      "source": [
        "%%R\n",
        "fish.pca <- prcomp(fish[,c(2:13)], center = TRUE,scale. = TRUE)\n",
        "summary(fish.pca)\n",
        "biplot(fish.pca,ellipse=TRUE)"
      ],
      "execution_count": 161,
      "outputs": [
        {
          "output_type": "display_data",
          "data": {
            "image/png": "[encoded data removed]"
          },
          "metadata": {
            "tags": []
          }
        }
      ]
    },
    {
      "cell_type": "code",
      "metadata": {
        "colab": {
          "base_uri": "https://localhost:8080/",
          "height": 496
        },
        "id": "sPrYx9NrR2Ad",
        "outputId": "8deae9da-e1ca-411f-c7ae-ea1a55742b93"
      },
      "source": [
        "%%R\n",
        "\n",
        "ggbiplot(fish.pca,ellipse=TRUE)\n"
      ],
      "execution_count": 162,
      "outputs": [
        {
          "output_type": "display_data",
          "data": {
            "image/png": "[encoded data removed]"
          },
          "metadata": {
            "tags": []
          }
        }
      ]
    }
  ]
}